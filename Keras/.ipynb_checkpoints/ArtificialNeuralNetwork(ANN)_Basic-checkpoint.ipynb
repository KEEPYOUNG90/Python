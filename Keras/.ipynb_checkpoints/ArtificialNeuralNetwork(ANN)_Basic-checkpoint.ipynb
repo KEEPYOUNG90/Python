{
 "cells": [
  {
   "cell_type": "markdown",
   "metadata": {},
   "source": [
    "tensorflow version : 1.14.0 <br>\n",
    "keras version : 2.24.0"
   ]
  },
  {
   "cell_type": "code",
   "execution_count": 1,
   "metadata": {},
   "outputs": [
    {
     "name": "stderr",
     "output_type": "stream",
     "text": [
      "Using TensorFlow backend.\n"
     ]
    }
   ],
   "source": [
    "##############################################\n",
    "# Modeling\n",
    "##############################################\n",
    "from keras import layers, models\n",
    "\n",
    "#분산 방식 모델링을 포함하는 함수형 구현\n",
    "def ANN_models_func(Nin, Nh, Nout):\n",
    "    x = layers.Input(shape=(Nin,))\n",
    "    h = layers.Activation('relu')(layers.Dense(Nh)(x))\n",
    "    y = layers.Activation('softmax')(layers.Dense(Nout)(h))\n",
    "    model = models.Model(x, y)  #x -> y 모델 구현\n",
    "    model.compile(loss='categorical_crossentropy', optimizer='adam', metrics=['accuracy']) \n",
    "    return model\n",
    "\n",
    "#연쇄 방식 모델링을 포함하는 함수형 구현\n",
    "def ANN_seq_func(Nin, Nh, Nout):\n",
    "    model = models.Sequential() #모델 초기화\n",
    "    model.add(layers.Dense(Nh, activation='relu', input_shape=(Nin,)))\n",
    "    model.add(layers.Dense(Nout, activation='softmax'))\n",
    "    model.compile(loss='categorical_crossentropy', optimizer='adam', metrics=['accuracy']) \n",
    "    return model\n",
    "\n",
    "#분산 방식 모델링을 포함하는 객체지향형 구현\n",
    "class ANN_models_class(models.Model):\n",
    "    def __init__(self, Nin, Nh, Nout): #노드 초기화\n",
    "        # Prepare network layers and activate functions\n",
    "        hidden = layers.Dense(Nh)\n",
    "        output = layers.Dense(Nout)\n",
    "        relu = layers.Activation('relu')\n",
    "        softmax = layers.Activation('softmax')\n",
    "\n",
    "        # 네트워크 요소 연결\n",
    "        x = layers.Input(shape=(Nin,))\n",
    "        h = relu(hidden(x))\n",
    "        y = softmax(output(h))\n",
    "\n",
    "        super().__init__(x, y) #상속받은 부모 클래스 초기화\n",
    "        self.compile(loss='categorical_crossentropy', optimizer='adam', metrics=['accuracy']) \n",
    "        \n",
    "#연쇄 방식 모델링을 포함하는 객체지향형 구현\n",
    "#신경망 모델이 연속적인 하나의 고리로 연결되있음을 가정\n",
    "#연쇄적이지 않은 복잡한 모형에 경우 사용이 어려움\n",
    "class ANN_seq_class(models.Sequential):\n",
    "    def __init__(self, Nin, Nh, Nout):\n",
    "        super().__init__()\n",
    "        self.add(layers.Dense(Nh, activation='relu', input_shape=(Nin,)))\n",
    "        self.add(layers.Dense(Nout, activation='softmax'))\n",
    "        self.compile(loss='categorical_crossentropy',\n",
    "                     optimizer='adam', metrics=['accuracy'])"
   ]
  },
  {
   "cell_type": "code",
   "execution_count": 2,
   "metadata": {},
   "outputs": [],
   "source": [
    "##############################################\n",
    "# Data\n",
    "##############################################\n",
    "import numpy as np\n",
    "from keras import datasets  # mnist 불러오기\n",
    "from keras.utils import np_utils  # to_categorical 함수 사용\n",
    "\n",
    "def Data_func():\n",
    "    (X_train, y_train), (X_test, y_test) = datasets.mnist.load_data()\n",
    "\n",
    "    #0 ~ 9로 표현된 데이터를 0과 1로 표현\n",
    "    Y_train = np_utils.to_categorical(y_train)\n",
    "    Y_test = np_utils.to_categorical(y_test)\n",
    "\n",
    "    #샘플 L개 \n",
    "    L, W, H = X_train.shape\n",
    "    #자동으로 행을 설정을 위해 -1지정, W * H열의 수 지정\n",
    "    X_train = X_train.reshape(-1, W * H)\n",
    "    X_test = X_test.reshape(-1, W * H)\n",
    "\n",
    "    #0 ~ 255 입력값을 0 ~ 1로 정규화\n",
    "    X_train = X_train / 255.0\n",
    "    X_test = X_test / 255.0\n",
    "\n",
    "    return (X_train, Y_train), (X_test, Y_test)\n",
    "\n",
    "##############################################\n",
    "# Plotting\n",
    "##############################################\n",
    "import matplotlib.pyplot as plt\n",
    "\n",
    "def plot_acc(history, title=None):\n",
    "    # summarize history for accuracy\n",
    "    if not isinstance(history, dict):\n",
    "        history = history.history\n",
    "\n",
    "    plt.plot(history['acc'])\n",
    "    plt.plot(history['val_acc'])\n",
    "    if title is not None:\n",
    "        plt.title(title)\n",
    "    plt.ylabel('Accuracy')\n",
    "    plt.xlabel('Epoch')\n",
    "    plt.legend(['Training', 'Verification'], loc=0)\n",
    "    # plt.show()\n",
    "\n",
    "def plot_loss(history, title=None):\n",
    "    # summarize history for loss\n",
    "    if not isinstance(history, dict):\n",
    "        history = history.history\n",
    "\n",
    "    plt.plot(history['loss'])\n",
    "    plt.plot(history['val_loss'])\n",
    "    if title is not None:\n",
    "        plt.title(title)\n",
    "    plt.ylabel('Loss')\n",
    "    plt.xlabel('Epoch')\n",
    "    plt.legend(['Training', 'Verification'], loc=0)\n",
    "    # plt.show()\n",
    "\n",
    "\n",
    "##############################################\n",
    "# Main\n",
    "##############################################\n",
    "def main():\n",
    "    Nin = 784\n",
    "    Nh = 100\n",
    "    number_of_class = 10\n",
    "    Nout = number_of_class\n",
    "\n",
    "    # model = ANN_models_func(Nin, Nh, Nout)\n",
    "    # model = ANN_models_class(Nin, Nh, Nout)\n",
    "    model = ANN_seq_class(Nin, Nh, Nout)\n",
    "    (X_train, Y_train), (X_test, Y_test) = Data_func()\n",
    "\n",
    "    ##############################################\n",
    "    # Training\n",
    "    ##############################################\n",
    "    history = model.fit(X_train, Y_train, epochs=15, batch_size=100, validation_split=0.2)\n",
    "    performace_test = model.evaluate(X_test, Y_test, batch_size=100)\n",
    "    print('Test Loss and Accuracy ->', performace_test)\n",
    "\n",
    "    plot_loss(history)\n",
    "    plt.show()\n",
    "    plot_acc(history)\n",
    "    plt.show()"
   ]
  },
  {
   "cell_type": "code",
   "execution_count": 3,
   "metadata": {},
   "outputs": [
    {
     "name": "stdout",
     "output_type": "stream",
     "text": [
      "WARNING:tensorflow:From C:\\Users\\Keepyoung\\Anaconda3\\lib\\site-packages\\keras\\backend\\tensorflow_backend.py:74: The name tf.get_default_graph is deprecated. Please use tf.compat.v1.get_default_graph instead.\n",
      "\n",
      "WARNING:tensorflow:From C:\\Users\\Keepyoung\\Anaconda3\\lib\\site-packages\\keras\\backend\\tensorflow_backend.py:517: The name tf.placeholder is deprecated. Please use tf.compat.v1.placeholder instead.\n",
      "\n",
      "WARNING:tensorflow:From C:\\Users\\Keepyoung\\Anaconda3\\lib\\site-packages\\keras\\backend\\tensorflow_backend.py:4138: The name tf.random_uniform is deprecated. Please use tf.random.uniform instead.\n",
      "\n",
      "WARNING:tensorflow:From C:\\Users\\Keepyoung\\Anaconda3\\lib\\site-packages\\keras\\optimizers.py:790: The name tf.train.Optimizer is deprecated. Please use tf.compat.v1.train.Optimizer instead.\n",
      "\n",
      "WARNING:tensorflow:From C:\\Users\\Keepyoung\\Anaconda3\\lib\\site-packages\\keras\\backend\\tensorflow_backend.py:3295: The name tf.log is deprecated. Please use tf.math.log instead.\n",
      "\n",
      "WARNING:tensorflow:From C:\\Users\\Keepyoung\\Anaconda3\\lib\\site-packages\\tensorflow\\python\\ops\\math_grad.py:1250: add_dispatch_support.<locals>.wrapper (from tensorflow.python.ops.array_ops) is deprecated and will be removed in a future version.\n",
      "Instructions for updating:\n",
      "Use tf.where in 2.0, which has the same broadcast rule as np.where\n",
      "WARNING:tensorflow:From C:\\Users\\Keepyoung\\Anaconda3\\lib\\site-packages\\keras\\backend\\tensorflow_backend.py:986: The name tf.assign_add is deprecated. Please use tf.compat.v1.assign_add instead.\n",
      "\n",
      "Train on 48000 samples, validate on 12000 samples\n",
      "Epoch 1/15\n",
      "48000/48000 [==============================] - 22s 465us/step - loss: 0.3908 - acc: 0.8921 - val_loss: 0.2102 - val_acc: 0.9409\n",
      "Epoch 2/15\n",
      "48000/48000 [==============================] - 13s 261us/step - loss: 0.1837 - acc: 0.9476 - val_loss: 0.1530 - val_acc: 0.9563\n",
      "Epoch 3/15\n",
      "48000/48000 [==============================] - 15s 307us/step - loss: 0.1346 - acc: 0.9615 - val_loss: 0.1309 - val_acc: 0.9617\n",
      "Epoch 4/15\n",
      "48000/48000 [==============================] - 14s 302us/step - loss: 0.1064 - acc: 0.9701 - val_loss: 0.1140 - val_acc: 0.9668\n",
      "Epoch 5/15\n",
      "48000/48000 [==============================] - 15s 313us/step - loss: 0.0862 - acc: 0.9751 - val_loss: 0.1110 - val_acc: 0.9664\n",
      "Epoch 6/15\n",
      "48000/48000 [==============================] - 15s 306us/step - loss: 0.0713 - acc: 0.9799 - val_loss: 0.0986 - val_acc: 0.9693\n",
      "Epoch 7/15\n",
      "48000/48000 [==============================] - 16s 327us/step - loss: 0.0617 - acc: 0.9827 - val_loss: 0.1004 - val_acc: 0.9678\n",
      "Epoch 8/15\n",
      "48000/48000 [==============================] - 13s 266us/step - loss: 0.0523 - acc: 0.9858 - val_loss: 0.0955 - val_acc: 0.9714\n",
      "Epoch 9/15\n",
      "48000/48000 [==============================] - 12s 254us/step - loss: 0.0443 - acc: 0.9882 - val_loss: 0.0920 - val_acc: 0.9722\n",
      "Epoch 10/15\n",
      "48000/48000 [==============================] - 11s 236us/step - loss: 0.0384 - acc: 0.9895 - val_loss: 0.0954 - val_acc: 0.9710\n",
      "Epoch 11/15\n",
      "48000/48000 [==============================] - 9s 194us/step - loss: 0.0337 - acc: 0.9912 - val_loss: 0.0873 - val_acc: 0.9729\n",
      "Epoch 12/15\n",
      "48000/48000 [==============================] - 10s 201us/step - loss: 0.0283 - acc: 0.9927 - val_loss: 0.0971 - val_acc: 0.9708\n",
      "Epoch 13/15\n",
      "48000/48000 [==============================] - 9s 195us/step - loss: 0.0246 - acc: 0.9938 - val_loss: 0.0895 - val_acc: 0.9727\n",
      "Epoch 14/15\n",
      "48000/48000 [==============================] - 9s 188us/step - loss: 0.0210 - acc: 0.9951 - val_loss: 0.0873 - val_acc: 0.9741\n",
      "Epoch 15/15\n",
      "48000/48000 [==============================] - 9s 194us/step - loss: 0.0179 - acc: 0.9960 - val_loss: 0.0893 - val_acc: 0.9743\n",
      "10000/10000 [==============================] - 1s 76us/step\n",
      "Test Loss and Accuracy -> [0.08122512530826498, 0.9767000061273575]\n"
     ]
    },
    {
     "data": {
      "image/png": "[encoded data removed]",
      "text/plain": [
       "<Figure size 432x288 with 1 Axes>"
      ]
     },
     "metadata": {
      "needs_background": "light"
     },
     "output_type": "display_data"
    },
    {
     "data": {
      "image/png": "[encoded data removed]",
      "text/plain": [
       "<Figure size 432x288 with 1 Axes>"
      ]
     },
     "metadata": {
      "needs_background": "light"
     },
     "output_type": "display_data"
    }
   ],
   "source": [
    "# Run code\n",
    "if __name__ == '__main__':\n",
    "    main()\n",
    "#과적합이 발생함"
   ]
  }
 ],
 "metadata": {
  "kernelspec": {
   "display_name": "Python 3",
   "language": "python",
   "name": "python3"
  },
  "language_info": {
   "codemirror_mode": {
    "name": "ipython",
    "version": 3
   },
   "file_extension": ".py",
   "mimetype": "text/x-python",
   "name": "python",
   "nbconvert_exporter": "python",
   "pygments_lexer": "ipython3",
   "version": "3.7.3"
  }
 },
 "nbformat": 4,
 "nbformat_minor": 2
}
